{
 "cells": [
  {
   "cell_type": "code",
   "execution_count": 1,
   "metadata": {},
   "outputs": [],
   "source": [
    "import numpy as np\n",
    "import cv2\n",
    "import glob\n",
    "import matplotlib.pyplot as plt\n",
    "%matplotlib qt"
   ]
  },
  {
   "cell_type": "code",
   "execution_count": 2,
   "metadata": {},
   "outputs": [],
   "source": [
    "objp = np.zeros((6*8,3), np.float32)\n",
    "# print(objp)\n",
    "objp[:,:2] = np.mgrid[0:8, 0:6].T.reshape(-1,2)\n",
    "\n",
    "objpoints = [] # 실세계 3차원 지점(객체지점)\n",
    "imgpoints = [] # 이미지평면 2차원 이미지 지점"
   ]
  },
  {
   "cell_type": "code",
   "execution_count": 3,
   "metadata": {},
   "outputs": [],
   "source": [
    "criteria = (cv2.TERM_CRITERIA_EPS + cv2.TERM_CRITERIA_MAX_ITER, 30, 0.001)\n",
    "\n",
    "images = glob.glob('calibration_wide/GO*.jpg')\n",
    "for idx, fname in enumerate(images):\n",
    "    img = cv2.imread(fname)\n",
    "    gray = cv2.cvtColor(img, cv2.COLOR_BGR2GRAY)\n",
    "    \n",
    "    ret, corners = cv2.findChessboardCorners(gray, (8,6), None)\n",
    "    \n",
    "    if ret == True:\n",
    "        objpoints.append(objp)\n",
    "        \n",
    "        corners2 = cv2.cornerSubPix(gray, corners,(5,5),(-1,-1),criteria)\n",
    "        imgpoints.append(corners2)#이미지 지점 입력\n",
    "        cv2.drawChessboardCorners(img, (8,6), corners2, ret)\n",
    "cv2.destroyAllWindows()"
   ]
  },
  {
   "cell_type": "code",
   "execution_count": 4,
   "metadata": {},
   "outputs": [
    {
     "name": "stdout",
     "output_type": "stream",
     "text": [
      "[[560.22556619   0.         651.15623038]\n",
      " [  0.         561.2815969  498.96859625]\n",
      " [  0.           0.           1.        ]]\n"
     ]
    }
   ],
   "source": [
    "t, mtx, dist, rvecs, tvecs = cv2.calibrateCamera(objpoints,\n",
    "                                                   imgpoints,\n",
    "                                                   gray.shape[::-1],\n",
    "                                                 None,None)\n",
    "print(mtx)"
   ]
  },
  {
   "cell_type": "code",
   "execution_count": 5,
   "metadata": {},
   "outputs": [],
   "source": [
    "import pickle\n",
    "%matplotlib inline"
   ]
  },
  {
   "cell_type": "code",
   "execution_count": 60,
   "metadata": {},
   "outputs": [
    {
     "name": "stdout",
     "output_type": "stream",
     "text": [
      "1080\n"
     ]
    }
   ],
   "source": [
    "cap = cv2.VideoCapture('redball.mp4')\n",
    "# height = cap.get(cv2.CAP_PROP_FRAME_HEIGHT)\n",
    "# width = cap.get(cv2.CAP_PROP_FRAME_WIDTH)\n",
    "# cap.set(cv2.CAP_PROP_FRAME_HEIGHT,640)\n",
    "# cap.set(cv2.CAP_PROP_FRAME_WIDTH,480)\n",
    "# print(height)\n",
    "# print(width)\n",
    "ret, src = cap.read()\n",
    "print(src.shape[0])\n",
    "\n",
    "\n",
    "# print('fx, fy:',mtx[0][0],mtx[1][1])"
   ]
  },
  {
   "cell_type": "code",
   "execution_count": 7,
   "metadata": {},
   "outputs": [],
   "source": [
    "#왜곡제거\n",
    "dst = cv2.undistort(src,mtx,dist,None,mtx)\n",
    "dst = cv2.resize(dst,dsize=(640,640))\n",
    "cv2.imshow('dst',dst)\n",
    "cv2.waitKey()\n",
    "cv2.destroyAllWindows()"
   ]
  },
  {
   "cell_type": "code",
   "execution_count": 8,
   "metadata": {},
   "outputs": [
    {
     "name": "stdout",
     "output_type": "stream",
     "text": [
      "total error :  0.07172472745558958\n"
     ]
    }
   ],
   "source": [
    "tot_error=0\n",
    "for i in range(len(objpoints)):\n",
    "    imgpoints2,_=cv2.projectPoints(objpoints[i],rvecs[i],\n",
    "                                  tvecs[i],mtx,dist)\n",
    "    error=cv2.norm(imgpoints[i],imgpoints2,cv2.NORM_L2)/len(imgpoints2)\n",
    "    tot_error += error\n",
    "    \n",
    "print(\"total error : \",tot_error/len(objpoints))"
   ]
  },
  {
   "cell_type": "code",
   "execution_count": 12,
   "metadata": {},
   "outputs": [],
   "source": [
    "from imutils import paths\n",
    "import numpy as np\n",
    "import imutils"
   ]
  },
  {
   "cell_type": "code",
   "execution_count": 38,
   "metadata": {},
   "outputs": [
    {
     "name": "stdout",
     "output_type": "stream",
     "text": [
      "605.75 497.25\n"
     ]
    }
   ],
   "source": [
    "gray = cv2.cvtColor(src,cv2.COLOR_BGR2GRAY)\n",
    "gray = cv2.GaussianBlur(gray,(5,5),0)\n",
    "edged = cv2.Canny(gray, 70, 180)\n",
    "\n",
    "cnts = cv2.findContours(edged.copy(), cv2.RETR_LIST, cv2.CHAIN_APPROX_SIMPLE)\n",
    "cnts = imutils.grab_contours(cnts)\n",
    "c = max(cnts, key = cv2.contourArea)\n",
    "marker = cv2.minAreaRect(c)\n",
    "\n",
    "#bbox그리기\n",
    "box = cv2.boxPoints(marker) if imutils.is_cv2() else cv2.boxPoints(marker)\n",
    "box = np.int0(box)\n",
    "#좌측상단부터 반시계방향 좌표\n",
    "cor1, cor2, cor3, cor4 = box\n",
    "centerX,centerY = ((cor1 + cor4)/2 + (cor2 + cor3)/2)/2\n",
    "cx,cy = int(centerX),int(centerY)\n",
    "print(centerX,centerY)\n",
    "cv2.drawContours(src, [box], -1, (0,255,0), 2)\n",
    "cv2.circle(src,(cx,cy), 1, (0,255,0), 2)\n",
    "\n",
    "\n",
    "cv2.imshow('src',src)\n",
    "cv2.waitKey()\n",
    "cv2.destroyAllWindows()"
   ]
  },
  {
   "cell_type": "code",
   "execution_count": 39,
   "metadata": {},
   "outputs": [],
   "source": [
    "import PIL.ExifTags\n",
    "import PIL.Image"
   ]
  },
  {
   "cell_type": "code",
   "execution_count": 40,
   "metadata": {},
   "outputs": [],
   "source": [
    "#초점거리 구하기\n",
    "exif_img = PIL.Image.open(images[0])\n",
    "exif_data = {\n",
    "\tPIL.ExifTags.TAGS[k]:v\n",
    "\tfor k, v in exif_img._getexif().items()\n",
    "\tif k in PIL.ExifTags.TAGS}"
   ]
  },
  {
   "cell_type": "code",
   "execution_count": 64,
   "metadata": {},
   "outputs": [
    {
     "name": "stdout",
     "output_type": "stream",
     "text": [
      "m: 186.9178605147101 fx: 560.2255661908922 fy: 561.2815968973683\n",
      "x : 157.71194480928665\n",
      "objectWidth :  633.7586291325745\n",
      "imgSensor :  4.0184567497341295\n"
     ]
    }
   ],
   "source": [
    "fx = mtx[0][0]\n",
    "fy = mtx[1][1]\n",
    "\n",
    "# fx = 초점길이(f) x 배율인수(mx)\n",
    "m = ((fx+fy)/2) / 3.0 # 단위 : px/mm\n",
    "print('m:',m,'fx:',fx,'fy:',fy)\n",
    "\n",
    "# 개체크기(width픽셀) 구해야 한다.\n",
    "# 사진의 기본 해상도(체스판사진세부사항) : m = \n",
    "# 개체를촬영한비디오 해상도(카메라로촬영한 비디오) : x\n",
    "# x 값이 저해상도에서 배율인수\n",
    "x = 1080*m/1280\n",
    "print('x :',x)\n",
    "\n",
    "# minAreaRect를 통해서 개체크기(width 픽셀값)을 구한다\n",
    "#따라서 개체크기/x = 이미지센서의 물체크기(mm)\n",
    "objectWidth = np.sqrt((cor4[0]-cor1[0])**2 + (cor4[1]-cor1[1])**2)\n",
    "imgSensor = objectWidth/x\n",
    "print('objectWidth : ',objectWidth)\n",
    "print('imgSensor : ',imgSensor)"
   ]
  },
  {
   "cell_type": "code",
   "execution_count": 76,
   "metadata": {},
   "outputs": [
    {
     "name": "stdout",
     "output_type": "stream",
     "text": [
      "물체와 카메라 사이의 실제 거리 28cm\n"
     ]
    }
   ],
   "source": [
    "# 카메라에서 개체까지의 거리\n",
    "dist = 380 * 3.0 / imgSensor\n",
    "print('물체와 카메라 사이의 실제 거리 %dcm' %(round(dist/10,2)))\n"
   ]
  },
  {
   "cell_type": "code",
   "execution_count": null,
   "metadata": {},
   "outputs": [],
   "source": []
  }
 ],
 "metadata": {
  "kernelspec": {
   "display_name": "Python 3",
   "language": "python",
   "name": "python3"
  },
  "language_info": {
   "codemirror_mode": {
    "name": "ipython",
    "version": 3
   },
   "file_extension": ".py",
   "mimetype": "text/x-python",
   "name": "python",
   "nbconvert_exporter": "python",
   "pygments_lexer": "ipython3",
   "version": "3.8.3"
  }
 },
 "nbformat": 4,
 "nbformat_minor": 4
}
