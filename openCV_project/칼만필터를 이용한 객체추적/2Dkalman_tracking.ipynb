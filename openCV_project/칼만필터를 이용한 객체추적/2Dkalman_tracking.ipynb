{
 "cells": [
  {
   "cell_type": "code",
   "execution_count": 1,
   "metadata": {},
   "outputs": [],
   "source": [
    "import cv2\n",
    "import numpy as np"
   ]
  },
  {
   "cell_type": "code",
   "execution_count": 5,
   "metadata": {},
   "outputs": [],
   "source": [
    "cap = cv2.VideoCapture('redball.mp4')\n",
    "term_crit = (cv2.TERM_CRITERIA_MAX_ITER+cv2.TERM_CRITERIA_EPS,10, 1)\n",
    "fgbg=cv2.createBackgroundSubtractorKNN(history=500, dist2Threshold=400.0, \n",
    "                                      detectShadows=False)\n",
    "tracking_start = False\n",
    "\n",
    "#칼만필터셋업\n",
    "q = 1e-5 #pnc\n",
    "r = 0.01 #mnc\n",
    "dt = 1\n",
    "KF = cv2.KalmanFilter(4,2,0)\n",
    "KF.transitionMatrix = np.array([[1,0,dt,0],\n",
    "                               [0,1,0,dt],\n",
    "                               [0,0,1,0],\n",
    "                               [0,0,0,1]],np.float32) #A\n",
    "KF.measurementMatrix = np.array([[1,0,0,0],\n",
    "                                [0,1,0,0]],np.float32) #H"
   ]
  },
  {
   "cell_type": "code",
   "execution_count": 6,
   "metadata": {},
   "outputs": [],
   "source": [
    "while True :\n",
    "    ret, frame = cap.read()\n",
    "    hsv = cv2.cvtColor(frame, cv2.COLOR_BGR2HSV)\n",
    "    \n",
    "    lowb = np.array([0,100,100])\n",
    "    highb = np.array([10,255,255])\n",
    "    \n",
    "    #마스크생성\n",
    "    mask = cv2.inRange(hsv,lowb,highb)\n",
    "    \n",
    "    #배경추출\n",
    "    gaus = cv2.GaussianBlur(mask,(5,5),0)\n",
    "    image = fgbg.apply(gaus)\n",
    "    \n",
    "    #바운딩박스그리기\n",
    "    nlables, labels, stats, centroids = cv2.connectedComponentsWithStats(image)\n",
    "    for index, centroid in enumerate(centroids):\n",
    "        if stats[index][0]==0 and stats[index][1]==0:\n",
    "            continue\n",
    "        if np.any(np.isnan(centroid)):\n",
    "            continue\n",
    "            \n",
    "        x,y,width,height,area = stats[index]\n",
    "        \n",
    "        if area > 100:\n",
    "            x,y,w,h,area = stats[index]\n",
    "            \n",
    "            #칼만필터 시작\n",
    "            KF.processNoiseCov = q * np.eye(4,dtype=np.float32) #Q\n",
    "            KF.measurementNoiseCov = r * np.eye(2,dtype=np.float32) #R\n",
    "            KF.errorCovPost = np.eye(4,dtype=np.float32) #P0 = I\n",
    "            \n",
    "            KF.statePost = np.array([[x],[y],[0.],[0.]],dtype=np.float32)\n",
    "            \n",
    "            tracking_start = True\n",
    "            \n",
    "            if tracking_start :\n",
    "                predict = KF.predict()\n",
    "                \n",
    "                #칼만정정\n",
    "                z = np.array([[x],[y]],dtype=np.float32) #measurement\n",
    "                estimate = KF.correct(z)\n",
    "                estimate = np.int0(estimate)\n",
    "                \n",
    "                #바운딩박스\n",
    "                x2,y2 = estimate[0][0],estimate[1][0]\n",
    "                cv2.rectangle(frame,(x2,y2),(x2+w,y2+h),(255,0,0),2)\n",
    "                \n",
    "    \n",
    "    cv2.imshow('tracking',frame)\n",
    "    if cv2.waitKey(20) == 27:\n",
    "        break\n",
    "cv2.destroyAllWindows()"
   ]
  }
 ],
 "metadata": {
  "kernelspec": {
   "display_name": "Python 3",
   "language": "python",
   "name": "python3"
  },
  "language_info": {
   "codemirror_mode": {
    "name": "ipython",
    "version": 3
   },
   "file_extension": ".py",
   "mimetype": "text/x-python",
   "name": "python",
   "nbconvert_exporter": "python",
   "pygments_lexer": "ipython3",
   "version": "3.8.3"
  }
 },
 "nbformat": 4,
 "nbformat_minor": 4
}
